{
 "cells": [
  {
   "cell_type": "markdown",
   "metadata": {},
   "source": [
    "# CSV File Operations\n",
    "\n",
    "Comma Seperated File"
   ]
  },
  {
   "cell_type": "code",
   "execution_count": 1,
   "metadata": {},
   "outputs": [],
   "source": [
    "with open(file='File.csv', mode='r') as file:\n",
    "    content = file.read()\n",
    "print(f'Content of the File : \\n{content}')    "
   ]
  },
  {
   "cell_type": "markdown",
   "metadata": {},
   "source": [
    "#### Import File using Pandas"
   ]
  },
  {
   "cell_type": "code",
   "execution_count": 2,
   "metadata": {},
   "outputs": [
    {
     "name": "stdout",
     "output_type": "stream",
     "text": [
      "         Name  Age       Designation  Is_Married\n",
      "0  Kirankumar   25    Data Scientist       False\n",
      "1   Paramveer   26      Data Analyst        True\n",
      "2      Gaurav   26   Data Automation       False\n",
      "3      Pranit   28  Software Testing        True\n"
     ]
    }
   ],
   "source": [
    "import pandas as pd\n",
    "print(pd.read_csv('File.csv'))"
   ]
  },
  {
   "cell_type": "markdown",
   "metadata": {},
   "source": [
    "Use other Column as **Index** Column."
   ]
  },
  {
   "cell_type": "code",
   "execution_count": 3,
   "metadata": {},
   "outputs": [
    {
     "name": "stdout",
     "output_type": "stream",
     "text": [
      "            Age       Designation  Is_Married\n",
      "Name                                         \n",
      "Kirankumar   25    Data Scientist       False\n",
      "Paramveer    26      Data Analyst        True\n",
      "Gaurav       26   Data Automation       False\n",
      "Pranit       28  Software Testing        True\n"
     ]
    }
   ],
   "source": [
    "print(pd.read_csv('File.csv', index_col='Name'))"
   ]
  },
  {
   "cell_type": "markdown",
   "metadata": {},
   "source": [
    "Use only **Specified** Columns"
   ]
  },
  {
   "cell_type": "code",
   "execution_count": 4,
   "metadata": {},
   "outputs": [
    {
     "name": "stdout",
     "output_type": "stream",
     "text": [
      "         Name  Age       Designation\n",
      "0  Kirankumar   25    Data Scientist\n",
      "1   Paramveer   26      Data Analyst\n",
      "2      Gaurav   26   Data Automation\n",
      "3      Pranit   28  Software Testing\n"
     ]
    }
   ],
   "source": [
    "print(pd.read_csv('File.csv', usecols=['Name','Age','Designation']))"
   ]
  },
  {
   "cell_type": "markdown",
   "metadata": {},
   "source": [
    "#### Squeeze\n",
    "\n",
    "Obtain Single Column Data as Series instead of Data Frame."
   ]
  },
  {
   "cell_type": "code",
   "execution_count": 5,
   "metadata": {},
   "outputs": [
    {
     "name": "stdout",
     "output_type": "stream",
     "text": [
      "         Name\n",
      "0  Kirankumar\n",
      "1   Paramveer\n",
      "2      Gaurav\n",
      "3      Pranit\n",
      "\n",
      " Type : <class 'pandas.core.frame.DataFrame'>\n"
     ]
    }
   ],
   "source": [
    "name = pd.read_csv('File.csv', usecols=['Name'])\n",
    "print(name)\n",
    "print(f'\\n Type : {type(name)}')"
   ]
  },
  {
   "cell_type": "code",
   "execution_count": 6,
   "metadata": {},
   "outputs": [
    {
     "name": "stdout",
     "output_type": "stream",
     "text": [
      "0    Kirankumar\n",
      "1     Paramveer\n",
      "2        Gaurav\n",
      "3        Pranit\n",
      "Name: Name, dtype: object\n",
      "\n",
      " Type : <class 'pandas.core.series.Series'>\n"
     ]
    }
   ],
   "source": [
    "name = pd.read_csv('File.csv', usecols=['Name'], squeeze=True)\n",
    "print(name)\n",
    "print(f'\\n Type : {type(name)}')"
   ]
  },
  {
   "cell_type": "markdown",
   "metadata": {},
   "source": [
    "#### Import File using NumPy\n",
    "\n",
    "Data Set should only Contain Numeric Data Points.\n",
    "\n",
    "1. **np.loadtxt()** : Direct Import and Use | Outputs an Error if it Encounters a Missing Data, NAN, Symbol or Text.\n",
    "\n",
    "2. **np.genfromtxt()** : Create a Data Set | Construct An Array from Text File."
   ]
  }
 ],
 "metadata": {
  "kernelspec": {
   "display_name": "Python 3",
   "language": "python",
   "name": "python3"
  },
  "language_info": {
   "codemirror_mode": {
    "name": "ipython",
    "version": 3
   },
   "file_extension": ".py",
   "mimetype": "text/x-python",
   "name": "python",
   "nbconvert_exporter": "python",
   "pygments_lexer": "ipython3",
   "version": "3.8.5"
  }
 },
 "nbformat": 4,
 "nbformat_minor": 4
}
