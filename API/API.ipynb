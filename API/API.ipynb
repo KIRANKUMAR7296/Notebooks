{
 "cells": [
  {
   "cell_type": "markdown",
   "metadata": {},
   "source": [
    "# API\n",
    "Extracting Data on Currency Exchange Rate.\n",
    "\n",
    "Base **URL**"
   ]
  },
  {
   "cell_type": "code",
   "execution_count": 1,
   "metadata": {},
   "outputs": [],
   "source": [
    "url = \"https://api.exchangeratesapi.io/latest\""
   ]
  },
  {
   "cell_type": "markdown",
   "metadata": {},
   "source": [
    "### GET Reqest\n",
    "\n",
    "Sending a GET Request | Pulling Data from API"
   ]
  },
  {
   "cell_type": "code",
   "execution_count": 2,
   "metadata": {},
   "outputs": [],
   "source": [
    "import requests"
   ]
  },
  {
   "cell_type": "markdown",
   "metadata": {},
   "source": [
    "Store the Response"
   ]
  },
  {
   "cell_type": "code",
   "execution_count": 3,
   "metadata": {},
   "outputs": [],
   "source": [
    "response = requests.get(url)"
   ]
  },
  {
   "cell_type": "markdown",
   "metadata": {},
   "source": [
    "Investigate the Response"
   ]
  },
  {
   "cell_type": "code",
   "execution_count": 4,
   "metadata": {},
   "outputs": [
    {
     "name": "stdout",
     "output_type": "stream",
     "text": [
      "True\n"
     ]
    }
   ],
   "source": [
    "print(response.ok)"
   ]
  },
  {
   "cell_type": "code",
   "execution_count": 5,
   "metadata": {},
   "outputs": [
    {
     "name": "stdout",
     "output_type": "stream",
     "text": [
      "Status Code : 200\n"
     ]
    }
   ],
   "source": [
    "print(f'Status Code : {response.status_code}')"
   ]
  },
  {
   "cell_type": "markdown",
   "metadata": {},
   "source": [
    "Body of Response"
   ]
  },
  {
   "cell_type": "code",
   "execution_count": 6,
   "metadata": {},
   "outputs": [
    {
     "name": "stdout",
     "output_type": "stream",
     "text": [
      "{\"rates\":{\"CAD\":1.5373,\"HKD\":9.315,\"ISK\":156.1,\"PHP\":57.721,\"DKK\":7.4375,\"HUF\":355.51,\"CZK\":25.925,\"AUD\":1.5781,\"RON\":4.8734,\"SEK\":10.1303,\"IDR\":16852.88,\"INR\":87.6185,\"BRL\":6.4256,\"RUB\":91.2217,\"HRK\":7.5693,\"JPY\":126.25,\"THB\":36.111,\"CHF\":1.0804,\"SGD\":1.6021,\"PLN\":4.4917,\"BGN\":1.9558,\"TRY\":8.6136,\"CNY\":7.7623,\"NOK\":10.354,\"NZD\":1.6695,\"ZAR\":17.9412,\"USD\":1.2017,\"MXN\":24.219,\"ILS\":3.9695,\"GBP\":0.88145,\"KRW\":1341.03,\"MYR\":4.8681},\"base\":\"EUR\",\"date\":\"2021-02-03\"}\n"
     ]
    }
   ],
   "source": [
    "print(response.text)"
   ]
  },
  {
   "cell_type": "code",
   "execution_count": 7,
   "metadata": {},
   "outputs": [
    {
     "data": {
      "text/plain": [
       "str"
      ]
     },
     "execution_count": 7,
     "metadata": {},
     "output_type": "execute_result"
    }
   ],
   "source": [
    "type(response.text)"
   ]
  },
  {
   "cell_type": "markdown",
   "metadata": {},
   "source": [
    "Response in Bytes"
   ]
  },
  {
   "cell_type": "code",
   "execution_count": 8,
   "metadata": {},
   "outputs": [
    {
     "name": "stdout",
     "output_type": "stream",
     "text": [
      "b'{\"rates\":{\"CAD\":1.5373,\"HKD\":9.315,\"ISK\":156.1,\"PHP\":57.721,\"DKK\":7.4375,\"HUF\":355.51,\"CZK\":25.925,\"AUD\":1.5781,\"RON\":4.8734,\"SEK\":10.1303,\"IDR\":16852.88,\"INR\":87.6185,\"BRL\":6.4256,\"RUB\":91.2217,\"HRK\":7.5693,\"JPY\":126.25,\"THB\":36.111,\"CHF\":1.0804,\"SGD\":1.6021,\"PLN\":4.4917,\"BGN\":1.9558,\"TRY\":8.6136,\"CNY\":7.7623,\"NOK\":10.354,\"NZD\":1.6695,\"ZAR\":17.9412,\"USD\":1.2017,\"MXN\":24.219,\"ILS\":3.9695,\"GBP\":0.88145,\"KRW\":1341.03,\"MYR\":4.8681},\"base\":\"EUR\",\"date\":\"2021-02-03\"}'\n"
     ]
    }
   ],
   "source": [
    "print(response.content)"
   ]
  },
  {
   "cell_type": "code",
   "execution_count": 9,
   "metadata": {},
   "outputs": [
    {
     "data": {
      "text/plain": [
       "bytes"
      ]
     },
     "execution_count": 9,
     "metadata": {},
     "output_type": "execute_result"
    }
   ],
   "source": [
    "type(response.content)"
   ]
  },
  {
   "cell_type": "markdown",
   "metadata": {},
   "source": [
    "Response is in the **JSON** Format"
   ]
  },
  {
   "cell_type": "code",
   "execution_count": 10,
   "metadata": {},
   "outputs": [
    {
     "name": "stdout",
     "output_type": "stream",
     "text": [
      "{'rates': {'CAD': 1.5373, 'HKD': 9.315, 'ISK': 156.1, 'PHP': 57.721, 'DKK': 7.4375, 'HUF': 355.51, 'CZK': 25.925, 'AUD': 1.5781, 'RON': 4.8734, 'SEK': 10.1303, 'IDR': 16852.88, 'INR': 87.6185, 'BRL': 6.4256, 'RUB': 91.2217, 'HRK': 7.5693, 'JPY': 126.25, 'THB': 36.111, 'CHF': 1.0804, 'SGD': 1.6021, 'PLN': 4.4917, 'BGN': 1.9558, 'TRY': 8.6136, 'CNY': 7.7623, 'NOK': 10.354, 'NZD': 1.6695, 'ZAR': 17.9412, 'USD': 1.2017, 'MXN': 24.219, 'ILS': 3.9695, 'GBP': 0.88145, 'KRW': 1341.03, 'MYR': 4.8681}, 'base': 'EUR', 'date': '2021-02-03'}\n"
     ]
    }
   ],
   "source": [
    "print(response.json())"
   ]
  },
  {
   "cell_type": "code",
   "execution_count": 11,
   "metadata": {},
   "outputs": [
    {
     "data": {
      "text/plain": [
       "dict"
      ]
     },
     "execution_count": 11,
     "metadata": {},
     "output_type": "execute_result"
    }
   ],
   "source": [
    "type(response.json())"
   ]
  },
  {
   "cell_type": "code",
   "execution_count": 12,
   "metadata": {},
   "outputs": [],
   "source": [
    "import json"
   ]
  },
  {
   "cell_type": "code",
   "execution_count": 13,
   "metadata": {},
   "outputs": [
    {
     "name": "stdout",
     "output_type": "stream",
     "text": [
      "{\n",
      "    \"rates\": {\n",
      "        \"CAD\": 1.5373,\n",
      "        \"HKD\": 9.315,\n",
      "        \"ISK\": 156.1,\n",
      "        \"PHP\": 57.721,\n",
      "        \"DKK\": 7.4375,\n",
      "        \"HUF\": 355.51,\n",
      "        \"CZK\": 25.925,\n",
      "        \"AUD\": 1.5781,\n",
      "        \"RON\": 4.8734,\n",
      "        \"SEK\": 10.1303,\n",
      "        \"IDR\": 16852.88,\n",
      "        \"INR\": 87.6185,\n",
      "        \"BRL\": 6.4256,\n",
      "        \"RUB\": 91.2217,\n",
      "        \"HRK\": 7.5693,\n",
      "        \"JPY\": 126.25,\n",
      "        \"THB\": 36.111,\n",
      "        \"CHF\": 1.0804,\n",
      "        \"SGD\": 1.6021,\n",
      "        \"PLN\": 4.4917,\n",
      "        \"BGN\": 1.9558,\n",
      "        \"TRY\": 8.6136,\n",
      "        \"CNY\": 7.7623,\n",
      "        \"NOK\": 10.354,\n",
      "        \"NZD\": 1.6695,\n",
      "        \"ZAR\": 17.9412,\n",
      "        \"USD\": 1.2017,\n",
      "        \"MXN\": 24.219,\n",
      "        \"ILS\": 3.9695,\n",
      "        \"GBP\": 0.88145,\n",
      "        \"KRW\": 1341.03,\n",
      "        \"MYR\": 4.8681\n",
      "    },\n",
      "    \"base\": \"EUR\",\n",
      "    \"date\": \"2021-02-03\"\n",
      "}\n"
     ]
    }
   ],
   "source": [
    "print(json.dumps(response.json(), indent=4))"
   ]
  },
  {
   "cell_type": "code",
   "execution_count": 14,
   "metadata": {},
   "outputs": [
    {
     "name": "stdout",
     "output_type": "stream",
     "text": [
      "dict_keys(['rates', 'base', 'date'])\n"
     ]
    }
   ],
   "source": [
    "print(response.json().keys())\n",
    "# base : Base Currency (EURO)"
   ]
  },
  {
   "cell_type": "markdown",
   "metadata": {},
   "source": [
    "**Parameters** in GET Request"
   ]
  },
  {
   "cell_type": "code",
   "execution_count": 15,
   "metadata": {},
   "outputs": [],
   "source": [
    "parameter_url = url + \"?symbols=INR\""
   ]
  },
  {
   "cell_type": "code",
   "execution_count": 16,
   "metadata": {},
   "outputs": [],
   "source": [
    "response = requests.get(parameter_url)"
   ]
  },
  {
   "cell_type": "code",
   "execution_count": 17,
   "metadata": {},
   "outputs": [
    {
     "name": "stdout",
     "output_type": "stream",
     "text": [
      "True\n"
     ]
    }
   ],
   "source": [
    "print(response.ok)"
   ]
  },
  {
   "cell_type": "code",
   "execution_count": 18,
   "metadata": {},
   "outputs": [],
   "source": [
    "IND = response.json()"
   ]
  },
  {
   "cell_type": "code",
   "execution_count": 19,
   "metadata": {},
   "outputs": [
    {
     "name": "stdout",
     "output_type": "stream",
     "text": [
      "{'rates': {'INR': 87.6185}, 'base': 'EUR', 'date': '2021-02-03'}\n"
     ]
    }
   ],
   "source": [
    "print(IND)"
   ]
  },
  {
   "cell_type": "code",
   "execution_count": 20,
   "metadata": {},
   "outputs": [
    {
     "name": "stdout",
     "output_type": "stream",
     "text": [
      "Base Currency : EUR\n"
     ]
    }
   ],
   "source": [
    "print(f'Base Currency : {IND[\"base\"]}')"
   ]
  },
  {
   "cell_type": "code",
   "execution_count": 21,
   "metadata": {},
   "outputs": [
    {
     "name": "stdout",
     "output_type": "stream",
     "text": [
      "Exchange Rate for India : ₹87.6185\n"
     ]
    }
   ],
   "source": [
    "print(f'Exchange Rate for India : ₹{IND[\"rates\"][\"INR\"]}')"
   ]
  },
  {
   "cell_type": "code",
   "execution_count": 22,
   "metadata": {},
   "outputs": [
    {
     "name": "stdout",
     "output_type": "stream",
     "text": [
      "Date of Exchange : 2021-02-03\n"
     ]
    }
   ],
   "source": [
    "print(f'Date of Exchange : {IND[\"date\"]}')"
   ]
  },
  {
   "cell_type": "markdown",
   "metadata": {},
   "source": [
    "Exchange Rate with **USD**"
   ]
  },
  {
   "cell_type": "code",
   "execution_count": 23,
   "metadata": {},
   "outputs": [],
   "source": [
    "parameter_url = url + \"?symbols=INR\" + \"&\" + \"base=USD\""
   ]
  },
  {
   "cell_type": "code",
   "execution_count": 24,
   "metadata": {},
   "outputs": [
    {
     "name": "stdout",
     "output_type": "stream",
     "text": [
      "{'rates': {'INR': 72.9121244903}, 'base': 'USD', 'date': '2021-02-03'}\n"
     ]
    }
   ],
   "source": [
    "IND = requests.get(parameter_url).json()\n",
    "print(IND)"
   ]
  },
  {
   "cell_type": "code",
   "execution_count": 25,
   "metadata": {},
   "outputs": [
    {
     "name": "stdout",
     "output_type": "stream",
     "text": [
      "Exchange Rate for India : ₹72.9121244903\n"
     ]
    }
   ],
   "source": [
    "print(f'Exchange Rate for India : ₹{IND[\"rates\"][\"INR\"]}')"
   ]
  },
  {
   "cell_type": "markdown",
   "metadata": {},
   "source": [
    "Historical Exchange Rate"
   ]
  },
  {
   "cell_type": "code",
   "execution_count": 26,
   "metadata": {},
   "outputs": [],
   "source": [
    "url = \"https://api.exchangeratesapi.io/\"\n",
    "\n",
    "historical_url = url + \"2010-01-01\""
   ]
  },
  {
   "cell_type": "code",
   "execution_count": 27,
   "metadata": {},
   "outputs": [
    {
     "name": "stdout",
     "output_type": "stream",
     "text": [
      "Exchange Rate for India in 2010 : ₹67.04\n"
     ]
    }
   ],
   "source": [
    "IND_2010 = requests.get(historical_url).json()\n",
    "print(f'Exchange Rate for India in 2010 : ₹{IND_2010[\"rates\"][\"INR\"]}')"
   ]
  },
  {
   "cell_type": "markdown",
   "metadata": {},
   "source": [
    "Identify **Invalid** Input"
   ]
  },
  {
   "cell_type": "code",
   "execution_count": 28,
   "metadata": {},
   "outputs": [],
   "source": [
    "invalid_url = url + \"2025-13-01\""
   ]
  },
  {
   "cell_type": "code",
   "execution_count": 29,
   "metadata": {},
   "outputs": [],
   "source": [
    "response = requests.get(invalid_url)"
   ]
  },
  {
   "cell_type": "code",
   "execution_count": 30,
   "metadata": {},
   "outputs": [
    {
     "name": "stdout",
     "output_type": "stream",
     "text": [
      "False\n"
     ]
    }
   ],
   "source": [
    "print(response.ok)"
   ]
  },
  {
   "cell_type": "code",
   "execution_count": 31,
   "metadata": {},
   "outputs": [
    {
     "name": "stdout",
     "output_type": "stream",
     "text": [
      "400\n"
     ]
    }
   ],
   "source": [
    "print(response.status_code)\n",
    "# 400 Indicates Client Error | Invalid Input | Bad Request"
   ]
  },
  {
   "cell_type": "code",
   "execution_count": 32,
   "metadata": {},
   "outputs": [
    {
     "name": "stdout",
     "output_type": "stream",
     "text": [
      "{'error': \"time data '2025-13-01' does not match format '%Y-%m-%d'\"}\n"
     ]
    }
   ],
   "source": [
    "print(response.json())"
   ]
  }
 ],
 "metadata": {
  "kernelspec": {
   "display_name": "Python 3",
   "language": "python",
   "name": "python3"
  },
  "language_info": {
   "codemirror_mode": {
    "name": "ipython",
    "version": 3
   },
   "file_extension": ".py",
   "mimetype": "text/x-python",
   "name": "python",
   "nbconvert_exporter": "python",
   "pygments_lexer": "ipython3",
   "version": "3.8.5"
  }
 },
 "nbformat": 4,
 "nbformat_minor": 4
}
