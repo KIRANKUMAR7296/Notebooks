{
 "cells": [
  {
   "cell_type": "markdown",
   "metadata": {},
   "source": [
    "# Currency Convertor 💴💶💷💵"
   ]
  },
  {
   "cell_type": "code",
   "execution_count": 1,
   "metadata": {},
   "outputs": [
    {
     "name": "stdout",
     "output_type": "stream",
     "text": [
      "Convert From (Currency) : USD\n",
      "Convert To (Currency) : INR\n",
      "Amount you want to Convert : 1\n",
      "\n",
      "1.0 USD is Equal to 72.91 INR, Exchange Rates on 2021-02-03\n"
     ]
    }
   ],
   "source": [
    "import requests\n",
    "\n",
    "base = input(\"Convert From (Currency) : \")\n",
    "to = input(\"Convert To (Currency) : \")\n",
    "amt = float(input(\"Amount you want to Convert : \"))\n",
    "\n",
    "url = \"https://api.exchangeratesapi.io/latest/\" + \"?base=\" + base + \"&symbols=\" + to\n",
    "\n",
    "response = requests.get(url)\n",
    "\n",
    "if (response.ok):\n",
    "    data = response.json()\n",
    "    rate = data[\"rates\"][to]\n",
    "    result = round((amt * rate),2)\n",
    "else:\n",
    "    print(f'\\nError : {response.status_code}')\n",
    "    print(f'{response.json()[\"error\"]}')\n",
    "    \n",
    "print(f'\\n{amt} {base} is Equal to {result} {to}, Exchange Rates on {data[\"date\"]}')"
   ]
  }
 ],
 "metadata": {
  "kernelspec": {
   "display_name": "Python 3",
   "language": "python",
   "name": "python3"
  },
  "language_info": {
   "codemirror_mode": {
    "name": "ipython",
    "version": 3
   },
   "file_extension": ".py",
   "mimetype": "text/x-python",
   "name": "python",
   "nbconvert_exporter": "python",
   "pygments_lexer": "ipython3",
   "version": "3.8.5"
  }
 },
 "nbformat": 4,
 "nbformat_minor": 4
}
