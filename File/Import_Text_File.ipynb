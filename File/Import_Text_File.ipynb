{
 "cells": [
  {
   "cell_type": "markdown",
   "metadata": {},
   "source": [
    "# Import Text File in Python\n",
    "\n",
    "**open()** : **Access** File Content.\n",
    "\n",
    "**read()** : **Read** the File Content only 1 Time.\n",
    "\n",
    "**close()** : **Close** File. (Important).\n",
    "\n",
    "Always Store File Text Inside an Object | Variable."
   ]
  },
  {
   "cell_type": "code",
   "execution_count": 1,
   "metadata": {},
   "outputs": [
    {
     "name": "stdout",
     "output_type": "stream",
     "text": [
      "Hi this a New Text File written in write mode.\n"
     ]
    }
   ],
   "source": [
    "file = open(file='File.txt', mode='r')\n",
    "content = file.read() \n",
    "file.close()\n",
    "print(content)"
   ]
  },
  {
   "cell_type": "code",
   "execution_count": 2,
   "metadata": {},
   "outputs": [
    {
     "name": "stdout",
     "output_type": "stream",
     "text": [
      "True\n"
     ]
    }
   ],
   "source": [
    "# Check whether File is Closed\n",
    "print(file.closed)"
   ]
  },
  {
   "cell_type": "markdown",
   "metadata": {},
   "source": [
    "# Import Text File using with\n",
    "\n",
    "If we Open File using **with** we don't need to **Close** the File."
   ]
  },
  {
   "cell_type": "code",
   "execution_count": 3,
   "metadata": {},
   "outputs": [
    {
     "name": "stdout",
     "output_type": "stream",
     "text": [
      "Hi this a New Text File written in write mode.\n"
     ]
    }
   ],
   "source": [
    "with open(file='File.txt', mode='r') as file:\n",
    "    content = file.read()\n",
    "\n",
    "print(content)"
   ]
  },
  {
   "cell_type": "code",
   "execution_count": 4,
   "metadata": {},
   "outputs": [
    {
     "name": "stdout",
     "output_type": "stream",
     "text": [
      "True\n"
     ]
    }
   ],
   "source": [
    "# Check whether File is Closed\n",
    "print(file.closed)"
   ]
  },
  {
   "cell_type": "markdown",
   "metadata": {},
   "source": [
    "# Write Text File in Python\n",
    "\n",
    "open file in **w** (write) mode.\n",
    "\n",
    "If we write a **New** text content in Existing File, we loose the **Old** text content."
   ]
  },
  {
   "cell_type": "code",
   "execution_count": 5,
   "metadata": {},
   "outputs": [],
   "source": [
    "with open (file='File.txt', mode='w') as file:\n",
    "    file.write('Hi this a New Text File written in write mode.')"
   ]
  },
  {
   "cell_type": "code",
   "execution_count": 6,
   "metadata": {},
   "outputs": [
    {
     "name": "stdout",
     "output_type": "stream",
     "text": [
      "Hi this a New Text File written in write mode.\n"
     ]
    }
   ],
   "source": [
    "with open(file='File.txt', mode='r') as file:\n",
    "    content = file.read()\n",
    "print(content)"
   ]
  }
 ],
 "metadata": {
  "kernelspec": {
   "display_name": "Python 3",
   "language": "python",
   "name": "python3"
  },
  "language_info": {
   "codemirror_mode": {
    "name": "ipython",
    "version": 3
   },
   "file_extension": ".py",
   "mimetype": "text/x-python",
   "name": "python",
   "nbconvert_exporter": "python",
   "pygments_lexer": "ipython3",
   "version": "3.8.5"
  }
 },
 "nbformat": 4,
 "nbformat_minor": 4
}
